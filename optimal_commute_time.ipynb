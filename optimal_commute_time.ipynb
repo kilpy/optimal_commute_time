{
 "cells": [
  {
   "cell_type": "code",
   "execution_count": 4,
   "id": "ff786deb",
   "metadata": {},
   "outputs": [],
   "source": [
    "# Use google maps to scrape traffic data \n",
    "# GOAL: Find best time pattern to travel for my personal commute from home to school. \n",
    "\n",
    "# STRATEGY: Use historical traffic data to identify patterns and suggest optimal departure times.\n",
    "\n"
   ]
  },
  {
   "cell_type": "code",
   "execution_count": 5,
   "id": "9319bad3",
   "metadata": {},
   "outputs": [],
   "source": [
    "###############\n",
    "### Imports ###\n",
    "###############\n",
    "\n",
    "import pandas as pd\n",
    "import numpy as np\n",
    "# import googlemaps\n",
    "import os\n",
    "import dotenv"
   ]
  },
  {
   "cell_type": "code",
   "execution_count": null,
   "id": "165f6047",
   "metadata": {},
   "outputs": [],
   "source": [
    "### Data format: ###\n",
    "# The traffic data will be stored in a pandas Series with a datetime index.\n",
    "# Column values will represent the travel time for a specific minute of the day.\n",
    "# The Series will be populated with data from the Google Maps API.\n",
    "\n",
    "\n",
    "### Variables ###\n",
    "home = \"45 Greenhalge st, Methuen, MA 01844\"\n",
    "school = \"795 Columbus Ave, Boston, MA 02120\"\n",
    "\n",
    "\n",
    "dotenv.load_dotenv()\n",
    "API_KEY = os.getenv(\"GMAPS_KEY\")\n",
    "if API_KEY is None:\n",
    "    raise ValueError(\"API Key not found. Please set GMAPS_KEY in your .env file.\")"
   ]
  },
  {
   "cell_type": "code",
   "execution_count": null,
   "id": "f2125aec",
   "metadata": {},
   "outputs": [],
   "source": [
    "#################\n",
    "### Functions ###\n",
    "#################\n",
    "\n",
    "# def get_traffic_data(api_key, origin, destination, departure_time):\n",
    "#     gmaps = googlemaps.Client(key=api_key)\n",
    "#     traffic_data = gmaps.distance_matrix(\n",
    "#         origins=origin,\n",
    "#         destinations=destination,\n",
    "#         departure_time=departure_time,\n",
    "#         traffic_model=\"best_guess\"\n",
    "#     )\n",
    "#     return traffic_data\n",
    "\n",
    "\n",
    "# Time series to store traffic data in 1 minute time intervals:\n",
    "traffic_data_series = pd.Series(dtype=float)"
   ]
  }
 ],
 "metadata": {
  "kernelspec": {
   "display_name": "Python 3",
   "language": "python",
   "name": "python3"
  },
  "language_info": {
   "codemirror_mode": {
    "name": "ipython",
    "version": 3
   },
   "file_extension": ".py",
   "mimetype": "text/x-python",
   "name": "python",
   "nbconvert_exporter": "python",
   "pygments_lexer": "ipython3",
   "version": "3.12.10"
  }
 },
 "nbformat": 4,
 "nbformat_minor": 5
}

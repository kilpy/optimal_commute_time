{
 "cells": [
  {
   "cell_type": "code",
   "execution_count": 1,
   "id": "ff786deb",
   "metadata": {},
   "outputs": [
    {
     "ename": "ModuleNotFoundError",
     "evalue": "No module named 'googlemaps'",
     "output_type": "error",
     "traceback": [
      "\u001b[1;31m---------------------------------------------------------------------------\u001b[0m",
      "\u001b[1;31mModuleNotFoundError\u001b[0m                       Traceback (most recent call last)",
      "Cell \u001b[1;32mIn[1], line 14\u001b[0m\n\u001b[0;32m     12\u001b[0m \u001b[38;5;28;01mimport\u001b[39;00m \u001b[38;5;21;01mpandas\u001b[39;00m \u001b[38;5;28;01mas\u001b[39;00m \u001b[38;5;21;01mpd\u001b[39;00m\n\u001b[0;32m     13\u001b[0m \u001b[38;5;28;01mimport\u001b[39;00m \u001b[38;5;21;01mnumpy\u001b[39;00m \u001b[38;5;28;01mas\u001b[39;00m \u001b[38;5;21;01mnp\u001b[39;00m\n\u001b[1;32m---> 14\u001b[0m \u001b[38;5;28;01mimport\u001b[39;00m \u001b[38;5;21;01mgooglemaps\u001b[39;00m\n\u001b[0;32m     17\u001b[0m \u001b[38;5;66;03m#################\u001b[39;00m\n\u001b[0;32m     18\u001b[0m \u001b[38;5;66;03m### Functions ###\u001b[39;00m\n\u001b[0;32m     19\u001b[0m \u001b[38;5;66;03m#################\u001b[39;00m\n\u001b[0;32m     21\u001b[0m \u001b[38;5;28;01mdef\u001b[39;00m \u001b[38;5;21mget_traffic_data\u001b[39m(api_key, origin, destination, departure_time):\n",
      "\u001b[1;31mModuleNotFoundError\u001b[0m: No module named 'googlemaps'"
     ]
    }
   ],
   "source": [
    "# Use google maps to scrape traffic data \n",
    "# GOAL: Find best time pattern to travel for my personal commute from home to school. \n",
    "\n",
    "# STRATEGY: Use historical traffic data to identify patterns and suggest optimal departure times.\n",
    "\n",
    "\n",
    "\n",
    "###############\n",
    "### Imports ###\n",
    "###############\n",
    "\n",
    "import pandas as pd\n",
    "import numpy as np\n",
    "import googlemaps\n",
    "\n",
    "\n",
    "#################\n",
    "### Functions ###\n",
    "#################\n",
    "\n",
    "def get_traffic_data(api_key, origin, destination, departure_time):\n",
    "    gmaps = googlemaps.Client(key=api_key)\n",
    "    traffic_data = gmaps.distance_matrix(\n",
    "        origins=origin,\n",
    "        destinations=destination,\n",
    "        departure_time=departure_time,\n",
    "        traffic_model=\"best_guess\"\n",
    "    )\n",
    "    return traffic_data\n",
    "\n",
    "\n",
    "# Time series to store traffic data in 1 minute time intervals:\n",
    "traffic_data_series = pd.Series(dtype=float)\n",
    "\n",
    "\n",
    "\n",
    "### Data format: ###\n",
    "# The traffic data will be stored in a pandas Series with a datetime index.\n",
    "# Column values will represent the travel time for a specific minute of the day.\n",
    "# The Series will be populated with data from the Google Maps API.\n",
    "\n",
    "\n",
    "\n",
    "### Variables ###\n",
    "home = \"45 Greenhalge st, Methuen, MA 01844\"\n",
    "school = \"795 Columbus Ave, Boston, MA 02120\"\n",
    "\n",
    "API_KEY = \" \"\n"
   ]
  },
  {
   "cell_type": "code",
   "execution_count": null,
   "id": "635c2607",
   "metadata": {},
   "outputs": [],
   "source": []
  }
 ],
 "metadata": {
  "kernelspec": {
   "display_name": "Python 3",
   "language": "python",
   "name": "python3"
  },
  "language_info": {
   "codemirror_mode": {
    "name": "ipython",
    "version": 3
   },
   "file_extension": ".py",
   "mimetype": "text/x-python",
   "name": "python",
   "nbconvert_exporter": "python",
   "pygments_lexer": "ipython3",
   "version": "3.12.10"
  }
 },
 "nbformat": 4,
 "nbformat_minor": 5
}
